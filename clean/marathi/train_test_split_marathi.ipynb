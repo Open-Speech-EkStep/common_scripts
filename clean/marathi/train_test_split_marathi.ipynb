{
 "cells": [
  {
   "cell_type": "code",
   "execution_count": 1,
   "metadata": {},
   "outputs": [],
   "source": [
    "import pandas as pd\n",
    "# from joblib import Parallel, delayed\n",
    "from tqdm import tqdm\n",
    "# import torch"
   ]
  },
  {
   "cell_type": "code",
   "execution_count": 2,
   "metadata": {},
   "outputs": [],
   "source": [
    "\n",
    "df = pd.read_csv(\"marathi_iitb_file_dur.csv\",index_col=False)\n",
    "df = df.drop(columns=[\"Unnamed: 0\"])"
   ]
  },
  {
   "cell_type": "code",
   "execution_count": 3,
   "metadata": {},
   "outputs": [
    {
     "data": {
      "text/html": [
       "<div>\n",
       "<style scoped>\n",
       "    .dataframe tbody tr th:only-of-type {\n",
       "        vertical-align: middle;\n",
       "    }\n",
       "\n",
       "    .dataframe tbody tr th {\n",
       "        vertical-align: top;\n",
       "    }\n",
       "\n",
       "    .dataframe thead th {\n",
       "        text-align: right;\n",
       "    }\n",
       "</style>\n",
       "<table border=\"1\" class=\"dataframe\">\n",
       "  <thead>\n",
       "    <tr style=\"text-align: right;\">\n",
       "      <th></th>\n",
       "      <th>audio_filepath</th>\n",
       "      <th>duration</th>\n",
       "      <th>text</th>\n",
       "    </tr>\n",
       "  </thead>\n",
       "  <tbody>\n",
       "    <tr>\n",
       "      <th>0</th>\n",
       "      <td>marathi_iitb_microsoft/College-Students_resamp...</td>\n",
       "      <td>2.68</td>\n",
       "      <td>रामटेक ते वर्धा रेल्वे ने कसं जायचं ?</td>\n",
       "    </tr>\n",
       "    <tr>\n",
       "      <th>1</th>\n",
       "      <td>marathi_iitb_microsoft/College-Students_resamp...</td>\n",
       "      <td>4.78</td>\n",
       "      <td>मला सांग की ऊर्जा ग्लोबल चा ग्राहक निगा क्रमां...</td>\n",
       "    </tr>\n",
       "    <tr>\n",
       "      <th>2</th>\n",
       "      <td>marathi_iitb_microsoft/College-Students_resamp...</td>\n",
       "      <td>4.56</td>\n",
       "      <td>सिंधुदुर्ग पॅसेंजर राजापूर रोड स्टेशन ला कधी य...</td>\n",
       "    </tr>\n",
       "    <tr>\n",
       "      <th>3</th>\n",
       "      <td>marathi_iitb_microsoft/College-Students_resamp...</td>\n",
       "      <td>2.58</td>\n",
       "      <td>आता या नंतर कोणतं गाणं आहे ?</td>\n",
       "    </tr>\n",
       "    <tr>\n",
       "      <th>4</th>\n",
       "      <td>marathi_iitb_microsoft/College-Students_resamp...</td>\n",
       "      <td>6.00</td>\n",
       "      <td>सवारी कार रेंटल्स फरीदाबाद चा तक्रार निवारण क्...</td>\n",
       "    </tr>\n",
       "    <tr>\n",
       "      <th>...</th>\n",
       "      <td>...</td>\n",
       "      <td>...</td>\n",
       "      <td>...</td>\n",
       "    </tr>\n",
       "    <tr>\n",
       "      <th>92466</th>\n",
       "      <td>marathi_iitb_microsoft/Rural-Low-Income-Worker...</td>\n",
       "      <td>7.80</td>\n",
       "      <td>मुंबई एलटीटी - पाटलिपुत्र एक्सप्रेस चे टाइम शे...</td>\n",
       "    </tr>\n",
       "    <tr>\n",
       "      <th>92467</th>\n",
       "      <td>marathi_iitb_microsoft/Rural-Low-Income-Worker...</td>\n",
       "      <td>1.48</td>\n",
       "      <td>शो प्रोफाईल.</td>\n",
       "    </tr>\n",
       "    <tr>\n",
       "      <th>92468</th>\n",
       "      <td>marathi_iitb_microsoft/Rural-Low-Income-Worker...</td>\n",
       "      <td>2.78</td>\n",
       "      <td>नवीन क्रोम ओपन करा.</td>\n",
       "    </tr>\n",
       "    <tr>\n",
       "      <th>92469</th>\n",
       "      <td>marathi_iitb_microsoft/Rural-Low-Income-Worker...</td>\n",
       "      <td>4.48</td>\n",
       "      <td>सेव्ह अॅज करून नवीन नाव दे.</td>\n",
       "    </tr>\n",
       "    <tr>\n",
       "      <th>92470</th>\n",
       "      <td>marathi_iitb_microsoft/Rural-Low-Income-Worker...</td>\n",
       "      <td>2.48</td>\n",
       "      <td>आंतरराष्ट्रीय साक्षरता दिवस दाखवच.</td>\n",
       "    </tr>\n",
       "  </tbody>\n",
       "</table>\n",
       "<p>92471 rows × 3 columns</p>\n",
       "</div>"
      ],
      "text/plain": [
       "                                          audio_filepath  duration  \\\n",
       "0      marathi_iitb_microsoft/College-Students_resamp...      2.68   \n",
       "1      marathi_iitb_microsoft/College-Students_resamp...      4.78   \n",
       "2      marathi_iitb_microsoft/College-Students_resamp...      4.56   \n",
       "3      marathi_iitb_microsoft/College-Students_resamp...      2.58   \n",
       "4      marathi_iitb_microsoft/College-Students_resamp...      6.00   \n",
       "...                                                  ...       ...   \n",
       "92466  marathi_iitb_microsoft/Rural-Low-Income-Worker...      7.80   \n",
       "92467  marathi_iitb_microsoft/Rural-Low-Income-Worker...      1.48   \n",
       "92468  marathi_iitb_microsoft/Rural-Low-Income-Worker...      2.78   \n",
       "92469  marathi_iitb_microsoft/Rural-Low-Income-Worker...      4.48   \n",
       "92470  marathi_iitb_microsoft/Rural-Low-Income-Worker...      2.48   \n",
       "\n",
       "                                                    text  \n",
       "0                  रामटेक ते वर्धा रेल्वे ने कसं जायचं ?  \n",
       "1      मला सांग की ऊर्जा ग्लोबल चा ग्राहक निगा क्रमां...  \n",
       "2      सिंधुदुर्ग पॅसेंजर राजापूर रोड स्टेशन ला कधी य...  \n",
       "3                           आता या नंतर कोणतं गाणं आहे ?  \n",
       "4      सवारी कार रेंटल्स फरीदाबाद चा तक्रार निवारण क्...  \n",
       "...                                                  ...  \n",
       "92466  मुंबई एलटीटी - पाटलिपुत्र एक्सप्रेस चे टाइम शे...  \n",
       "92467                                       शो प्रोफाईल.  \n",
       "92468                                नवीन क्रोम ओपन करा.  \n",
       "92469                        सेव्ह अॅज करून नवीन नाव दे.  \n",
       "92470                 आंतरराष्ट्रीय साक्षरता दिवस दाखवच.  \n",
       "\n",
       "[92471 rows x 3 columns]"
      ]
     },
     "execution_count": 3,
     "metadata": {},
     "output_type": "execute_result"
    }
   ],
   "source": [
    "df"
   ]
  },
  {
   "cell_type": "code",
   "execution_count": 4,
   "metadata": {},
   "outputs": [
    {
     "data": {
      "text/plain": [
       "{'01', '02', '03', '04', '05', '06', '07', '08', '09', '10', '11', '12'}"
      ]
     },
     "execution_count": 4,
     "metadata": {},
     "output_type": "execute_result"
    }
   ],
   "source": [
    "df['spe']=df['audio_filepath'].apply(lambda x: x.split('_')[4])\n",
    "df['category']=df['audio_filepath'].apply(lambda x: x.split(\"_\")[2].split('/')[-1])\n",
    "set(df['spe'])"
   ]
  },
  {
   "cell_type": "code",
   "execution_count": 5,
   "metadata": {
    "scrolled": true
   },
   "outputs": [
    {
     "data": {
      "text/plain": [
       "category\n",
       "College-Students            30.625294\n",
       "Rural-Low-Income-Workers    34.760367\n",
       "Urban-Low-Income-Workers    43.888433\n",
       "Name: duration, dtype: float64"
      ]
     },
     "execution_count": 5,
     "metadata": {},
     "output_type": "execute_result"
    }
   ],
   "source": [
    "df.groupby(['category'])['duration'].sum()/3600"
   ]
  },
  {
   "cell_type": "code",
   "execution_count": 6,
   "metadata": {
    "collapsed": true
   },
   "outputs": [
    {
     "data": {
      "text/html": [
       "<div>\n",
       "<style scoped>\n",
       "    .dataframe tbody tr th:only-of-type {\n",
       "        vertical-align: middle;\n",
       "    }\n",
       "\n",
       "    .dataframe tbody tr th {\n",
       "        vertical-align: top;\n",
       "    }\n",
       "\n",
       "    .dataframe thead th {\n",
       "        text-align: right;\n",
       "    }\n",
       "</style>\n",
       "<table border=\"1\" class=\"dataframe\">\n",
       "  <thead>\n",
       "    <tr style=\"text-align: right;\">\n",
       "      <th></th>\n",
       "      <th>audio_filepath</th>\n",
       "      <th>duration</th>\n",
       "      <th>text</th>\n",
       "      <th>spe</th>\n",
       "      <th>category</th>\n",
       "    </tr>\n",
       "  </thead>\n",
       "  <tbody>\n",
       "    <tr>\n",
       "      <th>0</th>\n",
       "      <td>marathi_iitb_microsoft/College-Students_resamp...</td>\n",
       "      <td>2.68</td>\n",
       "      <td>रामटेक ते वर्धा रेल्वे ने कसं जायचं ?</td>\n",
       "      <td>04</td>\n",
       "      <td>College-Students</td>\n",
       "    </tr>\n",
       "    <tr>\n",
       "      <th>1</th>\n",
       "      <td>marathi_iitb_microsoft/College-Students_resamp...</td>\n",
       "      <td>4.78</td>\n",
       "      <td>मला सांग की ऊर्जा ग्लोबल चा ग्राहक निगा क्रमां...</td>\n",
       "      <td>01</td>\n",
       "      <td>College-Students</td>\n",
       "    </tr>\n",
       "    <tr>\n",
       "      <th>2</th>\n",
       "      <td>marathi_iitb_microsoft/College-Students_resamp...</td>\n",
       "      <td>4.56</td>\n",
       "      <td>सिंधुदुर्ग पॅसेंजर राजापूर रोड स्टेशन ला कधी य...</td>\n",
       "      <td>10</td>\n",
       "      <td>College-Students</td>\n",
       "    </tr>\n",
       "    <tr>\n",
       "      <th>3</th>\n",
       "      <td>marathi_iitb_microsoft/College-Students_resamp...</td>\n",
       "      <td>2.58</td>\n",
       "      <td>आता या नंतर कोणतं गाणं आहे ?</td>\n",
       "      <td>09</td>\n",
       "      <td>College-Students</td>\n",
       "    </tr>\n",
       "    <tr>\n",
       "      <th>4</th>\n",
       "      <td>marathi_iitb_microsoft/College-Students_resamp...</td>\n",
       "      <td>6.00</td>\n",
       "      <td>सवारी कार रेंटल्स फरीदाबाद चा तक्रार निवारण क्...</td>\n",
       "      <td>03</td>\n",
       "      <td>College-Students</td>\n",
       "    </tr>\n",
       "    <tr>\n",
       "      <th>...</th>\n",
       "      <td>...</td>\n",
       "      <td>...</td>\n",
       "      <td>...</td>\n",
       "      <td>...</td>\n",
       "      <td>...</td>\n",
       "    </tr>\n",
       "    <tr>\n",
       "      <th>92466</th>\n",
       "      <td>marathi_iitb_microsoft/Rural-Low-Income-Worker...</td>\n",
       "      <td>7.80</td>\n",
       "      <td>मुंबई एलटीटी - पाटलिपुत्र एक्सप्रेस चे टाइम शे...</td>\n",
       "      <td>02</td>\n",
       "      <td>Rural-Low-Income-Workers</td>\n",
       "    </tr>\n",
       "    <tr>\n",
       "      <th>92467</th>\n",
       "      <td>marathi_iitb_microsoft/Rural-Low-Income-Worker...</td>\n",
       "      <td>1.48</td>\n",
       "      <td>शो प्रोफाईल.</td>\n",
       "      <td>03</td>\n",
       "      <td>Rural-Low-Income-Workers</td>\n",
       "    </tr>\n",
       "    <tr>\n",
       "      <th>92468</th>\n",
       "      <td>marathi_iitb_microsoft/Rural-Low-Income-Worker...</td>\n",
       "      <td>2.78</td>\n",
       "      <td>नवीन क्रोम ओपन करा.</td>\n",
       "      <td>01</td>\n",
       "      <td>Rural-Low-Income-Workers</td>\n",
       "    </tr>\n",
       "    <tr>\n",
       "      <th>92469</th>\n",
       "      <td>marathi_iitb_microsoft/Rural-Low-Income-Worker...</td>\n",
       "      <td>4.48</td>\n",
       "      <td>सेव्ह अॅज करून नवीन नाव दे.</td>\n",
       "      <td>08</td>\n",
       "      <td>Rural-Low-Income-Workers</td>\n",
       "    </tr>\n",
       "    <tr>\n",
       "      <th>92470</th>\n",
       "      <td>marathi_iitb_microsoft/Rural-Low-Income-Worker...</td>\n",
       "      <td>2.48</td>\n",
       "      <td>आंतरराष्ट्रीय साक्षरता दिवस दाखवच.</td>\n",
       "      <td>07</td>\n",
       "      <td>Rural-Low-Income-Workers</td>\n",
       "    </tr>\n",
       "  </tbody>\n",
       "</table>\n",
       "<p>92471 rows × 5 columns</p>\n",
       "</div>"
      ],
      "text/plain": [
       "                                          audio_filepath  duration  \\\n",
       "0      marathi_iitb_microsoft/College-Students_resamp...      2.68   \n",
       "1      marathi_iitb_microsoft/College-Students_resamp...      4.78   \n",
       "2      marathi_iitb_microsoft/College-Students_resamp...      4.56   \n",
       "3      marathi_iitb_microsoft/College-Students_resamp...      2.58   \n",
       "4      marathi_iitb_microsoft/College-Students_resamp...      6.00   \n",
       "...                                                  ...       ...   \n",
       "92466  marathi_iitb_microsoft/Rural-Low-Income-Worker...      7.80   \n",
       "92467  marathi_iitb_microsoft/Rural-Low-Income-Worker...      1.48   \n",
       "92468  marathi_iitb_microsoft/Rural-Low-Income-Worker...      2.78   \n",
       "92469  marathi_iitb_microsoft/Rural-Low-Income-Worker...      4.48   \n",
       "92470  marathi_iitb_microsoft/Rural-Low-Income-Worker...      2.48   \n",
       "\n",
       "                                                    text spe  \\\n",
       "0                  रामटेक ते वर्धा रेल्वे ने कसं जायचं ?  04   \n",
       "1      मला सांग की ऊर्जा ग्लोबल चा ग्राहक निगा क्रमां...  01   \n",
       "2      सिंधुदुर्ग पॅसेंजर राजापूर रोड स्टेशन ला कधी य...  10   \n",
       "3                           आता या नंतर कोणतं गाणं आहे ?  09   \n",
       "4      सवारी कार रेंटल्स फरीदाबाद चा तक्रार निवारण क्...  03   \n",
       "...                                                  ...  ..   \n",
       "92466  मुंबई एलटीटी - पाटलिपुत्र एक्सप्रेस चे टाइम शे...  02   \n",
       "92467                                       शो प्रोफाईल.  03   \n",
       "92468                                नवीन क्रोम ओपन करा.  01   \n",
       "92469                        सेव्ह अॅज करून नवीन नाव दे.  08   \n",
       "92470                 आंतरराष्ट्रीय साक्षरता दिवस दाखवच.  07   \n",
       "\n",
       "                       category  \n",
       "0              College-Students  \n",
       "1              College-Students  \n",
       "2              College-Students  \n",
       "3              College-Students  \n",
       "4              College-Students  \n",
       "...                         ...  \n",
       "92466  Rural-Low-Income-Workers  \n",
       "92467  Rural-Low-Income-Workers  \n",
       "92468  Rural-Low-Income-Workers  \n",
       "92469  Rural-Low-Income-Workers  \n",
       "92470  Rural-Low-Income-Workers  \n",
       "\n",
       "[92471 rows x 5 columns]"
      ]
     },
     "execution_count": 6,
     "metadata": {},
     "output_type": "execute_result"
    }
   ],
   "source": [
    "df"
   ]
  },
  {
   "cell_type": "code",
   "execution_count": 8,
   "metadata": {},
   "outputs": [
    {
     "data": {
      "text/plain": [
       "109.27409444444446"
      ]
     },
     "execution_count": 8,
     "metadata": {},
     "output_type": "execute_result"
    }
   ],
   "source": [
    "df.duration.sum()/3600"
   ]
  },
  {
   "cell_type": "code",
   "execution_count": 9,
   "metadata": {},
   "outputs": [
    {
     "data": {
      "text/plain": [
       "Index(['audio_filepath', 'duration', 'text', 'spe', 'category'], dtype='object')"
      ]
     },
     "execution_count": 9,
     "metadata": {},
     "output_type": "execute_result"
    }
   ],
   "source": [
    "df.columns"
   ]
  },
  {
   "cell_type": "code",
   "execution_count": 7,
   "metadata": {},
   "outputs": [
    {
     "data": {
      "text/plain": [
       "category                  spe\n",
       "College-Students          01     3.208583\n",
       "                          02     2.781606\n",
       "                          03     3.627822\n",
       "                          04     2.830500\n",
       "                          05     3.043756\n",
       "                          06     3.958094\n",
       "                          07     2.905900\n",
       "                          08     2.733728\n",
       "                          09     2.508444\n",
       "                          10     3.026861\n",
       "Rural-Low-Income-Workers  01     4.223589\n",
       "                          02     3.222744\n",
       "                          03     4.016050\n",
       "                          04     4.271828\n",
       "                          05     4.517817\n",
       "                          07     2.809050\n",
       "                          08     4.646111\n",
       "                          09     3.420094\n",
       "                          10     3.633083\n",
       "Urban-Low-Income-Workers  01     5.016561\n",
       "                          02     4.700572\n",
       "                          03     0.397361\n",
       "                          04     2.474828\n",
       "                          05     3.846728\n",
       "                          06     3.656017\n",
       "                          07     3.387500\n",
       "                          08     3.683294\n",
       "                          09     4.772944\n",
       "                          10     4.688433\n",
       "                          11     4.710711\n",
       "                          12     2.553483\n",
       "Name: duration, dtype: float64"
      ]
     },
     "execution_count": 7,
     "metadata": {},
     "output_type": "execute_result"
    }
   ],
   "source": [
    "df.groupby(['category','spe'])['duration'].sum()/3600"
   ]
  },
  {
   "cell_type": "raw",
   "metadata": {},
   "source": [
    "\n",
    "Valid - \n",
    "CS - 08\n",
    "RLIW -09\n",
    "UR - 04\n",
    "\n",
    "Test\n",
    "CS - 09\n",
    "RLIW -07\n",
    "UR - 12"
   ]
  },
  {
   "cell_type": "markdown",
   "metadata": {},
   "source": [
    "# Train valid test split"
   ]
  },
  {
   "cell_type": "code",
   "execution_count": 16,
   "metadata": {},
   "outputs": [],
   "source": [
    "valid = df[(df['category'] == 'College-Students') & (df['spe'] == '08') |\n",
    "        (df['category'] == 'Rural-Low-Income-Workers') & (df['spe'] == '09') |\n",
    "          (df['category'] == 'Urban-Low-Income-Workers') & (df['spe'] == '04') ]\n",
    "\n",
    "test = df[(df['category'] == 'College-Students') & (df['spe'] == '09') |\n",
    "        (df['category'] == 'Rural-Low-Income-Workers') & (df['spe'] == '07') |\n",
    "          (df['category'] == 'Urban-Low-Income-Workers') & (df['spe'] == '12') ]\n",
    "\n"
   ]
  },
  {
   "cell_type": "code",
   "execution_count": 17,
   "metadata": {},
   "outputs": [
    {
     "data": {
      "text/plain": [
       "7.870977777777777"
      ]
     },
     "execution_count": 17,
     "metadata": {},
     "output_type": "execute_result"
    }
   ],
   "source": [
    "test.duration.sum()/3600"
   ]
  },
  {
   "cell_type": "code",
   "execution_count": 18,
   "metadata": {},
   "outputs": [
    {
     "data": {
      "text/plain": [
       "8.62865"
      ]
     },
     "execution_count": 18,
     "metadata": {},
     "output_type": "execute_result"
    }
   ],
   "source": [
    "valid.duration.sum()/3600"
   ]
  },
  {
   "cell_type": "code",
   "execution_count": 21,
   "metadata": {},
   "outputs": [],
   "source": [
    "drop_indexes= list(test.index) + list(valid.index)"
   ]
  },
  {
   "cell_type": "code",
   "execution_count": 24,
   "metadata": {},
   "outputs": [],
   "source": [
    "train = df.drop(labels=drop_indexes)"
   ]
  },
  {
   "cell_type": "code",
   "execution_count": 26,
   "metadata": {},
   "outputs": [
    {
     "data": {
      "text/plain": [
       "92.77446666666665"
      ]
     },
     "execution_count": 26,
     "metadata": {},
     "output_type": "execute_result"
    }
   ],
   "source": [
    "train.duration.sum()/3600"
   ]
  },
  {
   "cell_type": "code",
   "execution_count": 27,
   "metadata": {},
   "outputs": [
    {
     "data": {
      "text/plain": [
       "109.27409444444443"
      ]
     },
     "execution_count": 27,
     "metadata": {},
     "output_type": "execute_result"
    }
   ],
   "source": [
    "train.duration.sum()/3600+valid.duration.sum()/3600+ test.duration.sum()/3600"
   ]
  },
  {
   "cell_type": "code",
   "execution_count": 34,
   "metadata": {},
   "outputs": [
    {
     "data": {
      "text/plain": [
       "'College-Students'"
      ]
     },
     "execution_count": 34,
     "metadata": {},
     "output_type": "execute_result"
    }
   ],
   "source": [
    "valid['audio_filepath'][10].split(\"/\")[1].replace(\"_resampled\",\"\")"
   ]
  },
  {
   "cell_type": "code",
   "execution_count": 39,
   "metadata": {},
   "outputs": [
    {
     "name": "stdout",
     "output_type": "stream",
     "text": [
      "cp marathi_iitb_microsoft/College-Students_resampled/2938_08_1.wav /home/marathi_finetuning/marathi/data/raw/valid/marathi_iitb_microsoft/College-Students/\n",
      "cp marathi_iitb_microsoft/College-Students_resampled/2938_08_1.txt /home/marathi_finetuning/marathi/data/raw/valid/marathi_iitb_microsoft/College-Students/\n",
      "cp marathi_iitb_microsoft/College-Students_resampled/2554_08_1.wav /home/marathi_finetuning/marathi/data/raw/valid/marathi_iitb_microsoft/College-Students/\n",
      "cp marathi_iitb_microsoft/College-Students_resampled/2554_08_1.txt /home/marathi_finetuning/marathi/data/raw/valid/marathi_iitb_microsoft/College-Students/\n",
      "cp marathi_iitb_microsoft/College-Students_resampled/1954_08_1.wav /home/marathi_finetuning/marathi/data/raw/valid/marathi_iitb_microsoft/College-Students/\n",
      "cp marathi_iitb_microsoft/College-Students_resampled/1954_08_1.txt /home/marathi_finetuning/marathi/data/raw/valid/marathi_iitb_microsoft/College-Students/\n",
      "cp marathi_iitb_microsoft/College-Students_resampled/1734_08_1.wav /home/marathi_finetuning/marathi/data/raw/valid/marathi_iitb_microsoft/College-Students/\n",
      "cp marathi_iitb_microsoft/College-Students_resampled/1734_08_1.txt /home/marathi_finetuning/marathi/data/raw/valid/marathi_iitb_microsoft/College-Students/\n",
      "cp marathi_iitb_microsoft/College-Students_resampled/1971_08_1.wav /home/marathi_finetuning/marathi/data/raw/valid/marathi_iitb_microsoft/College-Students/\n",
      "cp marathi_iitb_microsoft/College-Students_resampled/1971_08_1.txt /home/marathi_finetuning/marathi/data/raw/valid/marathi_iitb_microsoft/College-Students/\n"
     ]
    }
   ],
   "source": [
    "for filename in valid[\"audio_filepath\"][0:5]:\n",
    "    print(\"cp \"+filename+ \" /home/marathi_finetuning/marathi/data/raw/valid/marathi_iitb_microsoft/\"+filename.split(\"/\")[1].replace(\"_resampled\",\"\")+\"/\")\n",
    "    print(\"cp \"+filename.replace(\".wav\",\".txt\")+ \" /home/marathi_finetuning/marathi/data/raw/valid/marathi_iitb_microsoft/\"+filename.split(\"/\")[1].replace(\"_resampled\",\"\")+\"/\")"
   ]
  },
  {
   "cell_type": "markdown",
   "metadata": {},
   "source": [
    "# Create .sh files for copy"
   ]
  },
  {
   "cell_type": "code",
   "execution_count": 40,
   "metadata": {},
   "outputs": [],
   "source": [
    "with open(\"valid.sh\",\"w+\") as f:\n",
    "    for filename in valid[\"audio_filepath\"]:\n",
    "        print(\"cp \"+filename+ \" /home/marathi_finetuning/marathi/data/raw/valid/marathi_iitb_microsoft/\"+filename.split(\"/\")[1].replace(\"_resampled\",\"\")+\"/\",file=f)\n",
    "        print(\"cp \"+filename.replace(\".wav\",\".txt\")+ \" /home/marathi_finetuning/marathi/data/raw/valid/marathi_iitb_microsoft/\"+filename.split(\"/\")[1].replace(\"_resampled\",\"\")+\"/\",file=f)\n",
    "        "
   ]
  },
  {
   "cell_type": "code",
   "execution_count": 42,
   "metadata": {},
   "outputs": [],
   "source": [
    "with open(\"test.sh\",\"w+\") as f:\n",
    "    for filename in test[\"audio_filepath\"]:\n",
    "        print(\"cp \"+filename+ \" /home/marathi_finetuning/marathi/data/raw/test/marathi_iitb_microsoft/\"+filename.split(\"/\")[1].replace(\"_resampled\",\"\")+\"/\",file=f)\n",
    "        print(\"cp \"+filename.replace(\".wav\",\".txt\")+ \" /home/marathi_finetuning/marathi/data/raw/test/marathi_iitb_microsoft/\"+filename.split(\"/\")[1].replace(\"_resampled\",\"\")+\"/\",file=f)\n",
    "        "
   ]
  },
  {
   "cell_type": "code",
   "execution_count": 43,
   "metadata": {},
   "outputs": [],
   "source": [
    "with open(\"train.sh\",\"w+\") as f:\n",
    "    for filename in train[\"audio_filepath\"]:\n",
    "        print(\"cp \"+filename+ \" /home/marathi_finetuning/marathi/data/raw/train/marathi_iitb_microsoft/\"+filename.split(\"/\")[1].replace(\"_resampled\",\"\")+\"/\",file=f)\n",
    "        print(\"cp \"+filename.replace(\".wav\",\".txt\")+ \" /home/marathi_finetuning/marathi/data/raw/train/marathi_iitb_microsoft/\"+filename.split(\"/\")[1].replace(\"_resampled\",\"\")+\"/\",file=f)\n",
    "        "
   ]
  },
  {
   "cell_type": "markdown",
   "metadata": {},
   "source": [
    "# Experiments"
   ]
  },
  {
   "cell_type": "code",
   "execution_count": 9,
   "metadata": {},
   "outputs": [],
   "source": [
    "import re"
   ]
  },
  {
   "cell_type": "code",
   "execution_count": 10,
   "metadata": {},
   "outputs": [],
   "source": [
    "def remove_punct(text):\n",
    "    text = re.sub('[%s]' % re.escape(\"!\\।\\\"#$%&\\()*+,-./:;<=>?@[\\\\]^_`{|}~\"), '', text)\n",
    "    text = text.replace('\\u200d', '')\n",
    "    return text.strip()"
   ]
  },
  {
   "cell_type": "markdown",
   "metadata": {},
   "source": [
    "# End"
   ]
  }
 ],
 "metadata": {
  "kernelspec": {
   "display_name": "Python 3 (ipykernel)",
   "language": "python",
   "name": "python3"
  },
  "language_info": {
   "codemirror_mode": {
    "name": "ipython",
    "version": 3
   },
   "file_extension": ".py",
   "mimetype": "text/x-python",
   "name": "python",
   "nbconvert_exporter": "python",
   "pygments_lexer": "ipython3",
   "version": "3.7.10"
  }
 },
 "nbformat": 4,
 "nbformat_minor": 4
}
